{
 "cells": [
  {
   "cell_type": "markdown",
   "id": "bdccaf98-f632-4929-9dca-4001ede15209",
   "metadata": {},
   "source": [
    "# Visualize svg"
   ]
  },
  {
   "cell_type": "code",
   "execution_count": 18,
   "id": "d6e8e4ab-e6c9-48d8-9164-2a519dfea985",
   "metadata": {},
   "outputs": [],
   "source": [
    "from IPython.display import SVG, display"
   ]
  },
  {
   "cell_type": "code",
   "execution_count": 13,
   "id": "3d162392-7f71-4962-8657-8bc6d659624f",
   "metadata": {},
   "outputs": [
    {
     "data": {
      "text/plain": [
       "69.25390625"
      ]
     },
     "execution_count": 13,
     "metadata": {},
     "output_type": "execute_result"
    }
   ],
   "source": [
    "38.5078125 /2 + 50"
   ]
  },
  {
   "cell_type": "code",
   "execution_count": 16,
   "id": "b2a4ba40-9f61-4110-ac24-9d5872f74138",
   "metadata": {},
   "outputs": [],
   "source": [
    "svg = SVG(data=\"\"\"<svg width=\"1000\" height=\"500\"><g><rect x=\"50\" y=\"50\" width=\"587.3671875\" height=\"38.5078125\" fill=\"white\" stroke=\"black\" stroke-width=\"2\" rx=\"15\"></rect><text x=\"343.68359375\" y=\"69\" dominant-baseline=\"middle\" text-anchor=\"middle\" fill=\"black\" class=\"\" >He produced a decanter of curiously light wine and a block of curiously heavy cake: text</text></g></svg>\"\"\")"
   ]
  },
  {
   "cell_type": "code",
   "execution_count": 26,
   "id": "65fe00e1-a5c1-4990-9c9d-b67c5362808b",
   "metadata": {},
   "outputs": [
    {
     "data": {
      "image/svg+xml": [
       "<svg width=\"1000\" height=\"500\"><g><rect x=\"50\" y=\"50\" width=\"587.3671875\" height=\"38.5078125\" fill=\"white\" stroke=\"black\" stroke-width=\"2\" rx=\"15\"/><text x=\"343.68359375\" y=\"69\" dominant-baseline=\"middle\" text-anchor=\"middle\" fill=\"black\" class=\"\">He produced a decanter of curiously light wine and a block of curiously heavy cake: text</text></g></svg>"
      ],
      "text/plain": [
       "<IPython.core.display.SVG object>"
      ]
     },
     "metadata": {},
     "output_type": "display_data"
    }
   ],
   "source": [
    "display(svg)"
   ]
  },
  {
   "cell_type": "markdown",
   "id": "e24eb8e9-fb16-447f-af3d-d03a26373e4c",
   "metadata": {},
   "source": [
    "# Let's write simple node-placement algo"
   ]
  },
  {
   "cell_type": "code",
   "execution_count": 41,
   "id": "dab71623-f20f-4595-af9a-82df16f53812",
   "metadata": {},
   "outputs": [],
   "source": [
    "nodes = [{\"id\": f\"{i}\"} for i in range(1,9)]\n",
    "edges = [\n",
    "    {\"from\": \"1\", \"to\": \"2\"},\n",
    "    {\"from\": \"2\", \"to\": \"4\"},\n",
    "    {\"from\": \"1\", \"to\": \"4\"},\n",
    "    {\"from\": \"3\", \"to\": \"4\"},\n",
    "    {\"from\": \"1\", \"to\": \"5\"},\n",
    "    {\"from\": \"5\", \"to\": \"6\"},\n",
    "    {\"from\": \"4\", \"to\": \"6\"},\n",
    "    {\"from\": \"1\", \"to\": \"7\"},\n",
    "    {\"from\": \"4\", \"to\": \"7\"},\n",
    "    {\"from\": \"7\", \"to\": \"8\"}\n",
    "]"
   ]
  },
  {
   "cell_type": "code",
   "execution_count": 17,
   "id": "1e514a90-a0ed-45b4-8cae-afd15651802c",
   "metadata": {},
   "outputs": [],
   "source": [
    "%matplotlib inline\n",
    "import matplotlib.pyplot as plt\n",
    "import networkx as nx\n",
    "import numpy as np"
   ]
  },
  {
   "cell_type": "code",
   "execution_count": 18,
   "id": "751e9e36-5ce4-4aee-a137-71c2ab400060",
   "metadata": {},
   "outputs": [],
   "source": [
    "G = nx.Graph()"
   ]
  },
  {
   "cell_type": "code",
   "execution_count": 19,
   "id": "41355c6e-b8a3-4943-a23a-5649df5e0c06",
   "metadata": {},
   "outputs": [],
   "source": [
    "for n in nodes:\n",
    "    G.add_node(f\"{n['id']}\")\n",
    "for e in edges:\n",
    "    G.add_edge(\n",
    "        f\"{e['from']}\",\n",
    "        f\"{e['to']}\"\n",
    "    )\n"
   ]
  },
  {
   "cell_type": "code",
   "execution_count": 29,
   "id": "11ae1133-d88b-4174-a48a-3dc37a7cd74b",
   "metadata": {},
   "outputs": [],
   "source": [
    "#pos = nx.spring_layout(G, k=500, scale=1000)"
   ]
  },
  {
   "cell_type": "code",
   "execution_count": 30,
   "id": "e6bf105f-5d55-4480-9c43-f5e84a2ac6a8",
   "metadata": {},
   "outputs": [],
   "source": [
    "#pos = nx.kamada_kawai_layout(G)"
   ]
  },
  {
   "cell_type": "code",
   "execution_count": 62,
   "id": "d3fb937b-fb54-4ac7-a6a7-54604cbb3cbf",
   "metadata": {},
   "outputs": [],
   "source": [
    "np.random.seed(113253239)\n",
    "pos = {n['id']: np.random.normal(size=(2,)) for n in nodes} "
   ]
  },
  {
   "cell_type": "code",
   "execution_count": 63,
   "id": "1e85fc1e-4d46-4179-97e9-75fdb0cea265",
   "metadata": {},
   "outputs": [
    {
     "data": {
      "image/png": "[encoded data removed]",
      "text/plain": [
       "<Figure size 640x480 with 1 Axes>"
      ]
     },
     "metadata": {},
     "output_type": "display_data"
    }
   ],
   "source": [
    "\n",
    "options = {\n",
    "    \"font_size\": 14,\n",
    "    \"node_size\": 1000,\n",
    "    \"node_color\": \"white\",\n",
    "    \"edgecolors\": \"black\",\n",
    "    \"linewidths\": 2,\n",
    "    \"width\": 2,\n",
    "}\n",
    "\n",
    "nx.draw_networkx(G, pos, **options)\n",
    "\n",
    "# Set margins for the axes so that nodes aren't clipped\n",
    "ax = plt.gca()\n",
    "ax.margins(0.20)\n",
    "plt.axis(\"off\")\n",
    "plt.show()"
   ]
  },
  {
   "cell_type": "code",
   "execution_count": 43,
   "id": "34a2b9fd-773e-4e97-841a-cbe66d03819f",
   "metadata": {},
   "outputs": [],
   "source": [
    "node_idx = {n['id']: n for n in nodes}\n",
    "for e in edges:\n",
    "    n = node_idx[e['from']]\n",
    "    n['close'] = n.get('close', set())\n",
    "    n['close'].add(e['to'])\n",
    "\n",
    "    n = node_idx[e['to']]\n",
    "    n['close'] = n.get('close', set())\n",
    "    n['close'].add(e['from'])"
   ]
  },
  {
   "cell_type": "code",
   "execution_count": null,
   "id": "3ad7fdb5-18b4-42d0-8e57-9a1b64f10646",
   "metadata": {},
   "outputs": [],
   "source": []
  },
  {
   "cell_type": "code",
   "execution_count": 67,
   "id": "ea76b887-66ce-4aa7-ab02-5264282a6dcd",
   "metadata": {},
   "outputs": [],
   "source": [
    "np.random.seed(19)\n",
    "pos = {n['id']: np.random.normal(size=(2,)) for n in nodes} "
   ]
  },
  {
   "cell_type": "code",
   "execution_count": 68,
   "id": "9ad646a2-15aa-4c5a-ba87-0b15816f31dc",
   "metadata": {},
   "outputs": [],
   "source": [
    "# move connected nodes closer to mean coords of enighbours\n",
    "# move non-connected nodes further apart\n",
    "\n",
    "# for each node compute it's attraction point:\n",
    "# find mean coord among connected nodes -> pos vector\n",
    "# find mean negative vector - take all non-connected nodes, average vectors from non-connected to current\n",
    "# find mean among positive and negative vector \n",
    "\n",
    "all_nodes = {n['id'] for n in nodes}\n",
    "lr = 0.1\n",
    "\n",
    "for _iter in range(100):\n",
    "    for n in nodes:\n",
    "        positive = [pos[p] for p in n['close']]\n",
    "        if len(positive):\n",
    "            # TODO: we not just take average, but we constrain positive vector to not move closer than necessary\n",
    "            positive = np.mean(positive, axis=0) - pos[n['id']]\n",
    "        else:\n",
    "            positive = None\n",
    "            \n",
    "        negative = [pos[n['id']] -  pos[neg] for neg in all_nodes - n['close']]\n",
    "        if len(negative):\n",
    "            negative = np.mean(negative, axis=0)\n",
    "        else:\n",
    "            negative = None\n",
    "    \n",
    "        result = None\n",
    "        if positive is None:\n",
    "            result = negative\n",
    "        elif negative is None:\n",
    "            result = positive\n",
    "        else: # both non-None\n",
    "            # TODO: check that positive and negative are not alligned - if so - we should move randomly\n",
    "            result = np.mean([positive, negative], axis=0)\n",
    "    \n",
    "        pos[n['id']] += result * lr"
   ]
  },
  {
   "cell_type": "code",
   "execution_count": 69,
   "id": "972e837f-9438-4062-a1ba-cc4e918e344e",
   "metadata": {},
   "outputs": [
    {
     "data": {
      "image/png": "[encoded data removed]",
      "text/plain": [
       "<Figure size 640x480 with 1 Axes>"
      ]
     },
     "metadata": {},
     "output_type": "display_data"
    }
   ],
   "source": [
    "\n",
    "options = {\n",
    "    \"font_size\": 14,\n",
    "    \"node_size\": 1000,\n",
    "    \"node_color\": \"white\",\n",
    "    \"edgecolors\": \"black\",\n",
    "    \"linewidths\": 2,\n",
    "    \"width\": 2,\n",
    "}\n",
    "\n",
    "nx.draw_networkx(G, pos, **options)\n",
    "\n",
    "# Set margins for the axes so that nodes aren't clipped\n",
    "ax = plt.gca()\n",
    "ax.margins(0.20)\n",
    "plt.axis(\"off\")\n",
    "plt.show()"
   ]
  },
  {
   "cell_type": "code",
   "execution_count": null,
   "id": "52845b4d-a4eb-4cd2-95e4-3effb78b6ab4",
   "metadata": {},
   "outputs": [],
   "source": []
  },
  {
   "cell_type": "code",
   "execution_count": null,
   "id": "2669a808-0f8d-4996-989f-7754b1d5e541",
   "metadata": {},
   "outputs": [],
   "source": []
  }
 ],
 "metadata": {
  "kernelspec": {
   "display_name": "Python 3 (ipykernel)",
   "language": "python",
   "name": "python3"
  },
  "language_info": {
   "codemirror_mode": {
    "name": "ipython",
    "version": 3
   },
   "file_extension": ".py",
   "mimetype": "text/x-python",
   "name": "python",
   "nbconvert_exporter": "python",
   "pygments_lexer": "ipython3",
   "version": "3.12.4"
  }
 },
 "nbformat": 4,
 "nbformat_minor": 5
}
